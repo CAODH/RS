{
    "cells": [
        {
            "cell_type": "code",
            "execution_count": 1,
            "source": [
                "import gc\r\n",
                "import os\r\n",
                "\r\n",
                "import numpy as np\r\n",
                "import pandas as pd\r\n",
                "import seaborn as sns\r\n",
                "import torch\r\n",
                "from pylab import rcParams\r\n",
                "from simpletransformers.classification import ClassificationModel, ClassificationArgs\r\n",
                "from sklearn.metrics import accuracy_score\r\n",
                "\r\n",
                "os.environ[\"CUDA_VISIBLE_DEVICES\"] = \"0\"  # 设置显卡\r\n",
                "# 配置\r\n",
                "\r\n",
                "sns.set(style='whitegrid', palette='muted', font_scale=1.2)\r\n",
                "HAPPY_COLORS_PALETTE = [\"#01BEFE\", \"#FFDD00\", \"#FF7D00\", \"#FF006D\", \"#ADFF02\", \"#8F00FF\"]\r\n",
                "sns.set_palette(sns.color_palette(HAPPY_COLORS_PALETTE))\r\n",
                "rcParams['figure.figsize'] = 25, 20\r\n",
                "RANDOM_SEED = 42\r\n",
                "np.random.seed(RANDOM_SEED)\r\n",
                "torch.manual_seed(RANDOM_SEED)\r\n",
                "\r\n",
                "train = pd.read_csv('../train.csv', sep='\\t')\r\n",
                "test = pd.read_csv('../test.csv', sep='\\t')\r\n",
                "sub = pd.read_csv('../sample_submit.csv')\r\n",
                "\r\n",
                "# 拼接title与abstract\r\n",
                "train['text'] = train['title'] + ' ' + train['abstract']\r\n",
                "test['text'] = test['title'] + ' ' + test['abstract']\r\n",
                "\r\n",
                "label_id2cate = dict(enumerate(train.categories.unique()))\r\n",
                "label_cate2id = {value: key for key, value in label_id2cate.items()}\r\n",
                "\r\n",
                "train['label'] = train['categories'].map(label_cate2id)\r\n",
                "\r\n",
                "train = train[['text', 'label']]\r\n",
                "train_y = train[\"label\"]\r\n",
                "\r\n",
                "train_df = train[['text', 'label']][:45000]\r\n",
                "eval_df = train[['text', 'label']][45000:]\r\n",
                "\r\n",
                "model_args = ClassificationArgs()\r\n",
                "model_args.max_seq_length = 20\r\n",
                "model_args.train_batch_size = 8\r\n",
                "model_args.num_train_epochs = 1\r\n",
                "model_args.fp16 = False\r\n",
                "model_args.evaluate_during_training = False\r\n",
                "model_args.overwrite_output_dir = True\r\n",
                "\r\n",
                "model_type = 'roberta'\r\n",
                "model_name = 'roberta-base'\r\n",
                "print(\"training {}.........\".format(model_name))\r\n",
                "model_args.cache_dir = './caches' + '/' + model_name.split('/')[-1]\r\n",
                "model_args.output_dir = './outputs' + '/' + model_name.split('/')[-1]\r\n",
                "\r\n",
                "model = ClassificationModel(\r\n",
                "    model_type,\r\n",
                "    model_name,\r\n",
                "    num_labels=39,\r\n",
                "    args=model_args)\r\n",
                "\r\n",
                "model.train_model(train_df, eval_df=eval_df)\r\n",
                "result, _, _ = model.eval_model(eval_df, acc=accuracy_score)\r\n",
                "print(result)\r\n",
                "\r\n",
                "data = []\r\n",
                "for index, row in test.iterrows():\r\n",
                "    data.append(str(row['text']))\r\n",
                "predictions, raw_outputs = model.predict(data)\r\n",
                "sub = pd.read_csv('data/sample_submit.csv')\r\n",
                "sub['categories'] = predictions\r\n",
                "sub['categories'] = sub['categories'].map(label_id2cate)\r\n",
                "sub.to_csv('result/submit_{}.csv'.format(model_name), index=False)\r\n",
                "del model\r\n",
                "gc.collect()\r\n"
            ],
            "outputs": [
                {
                    "output_type": "error",
                    "ename": "ModuleNotFoundError",
                    "evalue": "No module named 'seaborn'",
                    "traceback": [
                        "\u001b[1;31m---------------------------------------------------------------------------\u001b[0m",
                        "\u001b[1;31mModuleNotFoundError\u001b[0m                       Traceback (most recent call last)",
                        "\u001b[1;32m<ipython-input-1-26817db69dc9>\u001b[0m in \u001b[0;36m<module>\u001b[1;34m\u001b[0m\n\u001b[0;32m      4\u001b[0m \u001b[1;32mimport\u001b[0m \u001b[0mnumpy\u001b[0m \u001b[1;32mas\u001b[0m \u001b[0mnp\u001b[0m\u001b[1;33m\u001b[0m\u001b[1;33m\u001b[0m\u001b[0m\n\u001b[0;32m      5\u001b[0m \u001b[1;32mimport\u001b[0m \u001b[0mpandas\u001b[0m \u001b[1;32mas\u001b[0m \u001b[0mpd\u001b[0m\u001b[1;33m\u001b[0m\u001b[1;33m\u001b[0m\u001b[0m\n\u001b[1;32m----> 6\u001b[1;33m \u001b[1;32mimport\u001b[0m \u001b[0mseaborn\u001b[0m \u001b[1;32mas\u001b[0m \u001b[0msns\u001b[0m\u001b[1;33m\u001b[0m\u001b[1;33m\u001b[0m\u001b[0m\n\u001b[0m\u001b[0;32m      7\u001b[0m \u001b[1;32mimport\u001b[0m \u001b[0mtorch\u001b[0m\u001b[1;33m\u001b[0m\u001b[1;33m\u001b[0m\u001b[0m\n\u001b[0;32m      8\u001b[0m \u001b[1;32mfrom\u001b[0m \u001b[0mpylab\u001b[0m \u001b[1;32mimport\u001b[0m \u001b[0mrcParams\u001b[0m\u001b[1;33m\u001b[0m\u001b[1;33m\u001b[0m\u001b[0m\n",
                        "\u001b[1;31mModuleNotFoundError\u001b[0m: No module named 'seaborn'"
                    ]
                }
            ],
            "metadata": {}
        },
        {
            "cell_type": "code",
            "execution_count": 2,
            "source": [
                "pip install seaborn"
            ],
            "outputs": [
                {
                    "output_type": "stream",
                    "name": "stdout",
                    "text": [
                        "^C\n",
                        "Note: you may need to restart the kernel to use updated packages.\n"
                    ]
                },
                {
                    "output_type": "stream",
                    "name": "stderr",
                    "text": [
                        "WARNING: Retrying (Retry(total=4, connect=None, read=None, redirect=None, status=None)) after connection broken by 'ProxyError('Cannot connect to proxy.', timeout('_ssl.c:1074: The handshake operation timed out'))': /simple/seaborn/\n",
                        "WARNING: Retrying (Retry(total=3, connect=None, read=None, redirect=None, status=None)) after connection broken by 'ProxyError('Cannot connect to proxy.', timeout('_ssl.c:1074: The handshake operation timed out'))': /simple/seaborn/\n",
                        "WARNING: Retrying (Retry(total=2, connect=None, read=None, redirect=None, status=None)) after connection broken by 'ProxyError('Cannot connect to proxy.', timeout('_ssl.c:1074: The handshake operation timed out'))': /simple/seaborn/\n",
                        "WARNING: Retrying (Retry(total=1, connect=None, read=None, redirect=None, status=None)) after connection broken by 'ProxyError('Cannot connect to proxy.', timeout('_ssl.c:1074: The handshake operation timed out'))': /simple/seaborn/\n",
                        "WARNING: Retrying (Retry(total=0, connect=None, read=None, redirect=None, status=None)) after connection broken by 'ProxyError('Cannot connect to proxy.', timeout('_ssl.c:1074: The handshake operation timed out'))': /simple/seaborn/\n",
                        "ERROR: Could not find a version that satisfies the requirement seaborn\n",
                        "ERROR: No matching distribution found for seaborn\n"
                    ]
                },
                {
                    "output_type": "stream",
                    "name": "stdout",
                    "text": [
                        "Looking in indexes: https://pypi.tuna.tsinghua.edu.cn/simple\n"
                    ]
                }
            ],
            "metadata": {}
        },
        {
            "cell_type": "code",
            "execution_count": null,
            "source": [],
            "outputs": [],
            "metadata": {}
        }
    ],
    "metadata": {
        "orig_nbformat": 4,
        "language_info": {
            "name": "python",
            "version": "3.7.9",
            "mimetype": "text/x-python",
            "codemirror_mode": {
                "name": "ipython",
                "version": 3
            },
            "pygments_lexer": "ipython3",
            "nbconvert_exporter": "python",
            "file_extension": ".py"
        },
        "kernelspec": {
            "name": "python3",
            "display_name": "Python 3.7.9 64-bit ('DGL': conda)"
        },
        "interpreter": {
            "hash": "46b061ac50843630504ea0be841f6b13764aa46f841660ca6208c5379bef4e72"
        }
    },
    "nbformat": 4,
    "nbformat_minor": 2
}